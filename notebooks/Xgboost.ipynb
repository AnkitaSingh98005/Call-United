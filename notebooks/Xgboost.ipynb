{
 "cells": [
  {
   "cell_type": "markdown",
   "id": "3a947c8d",
   "metadata": {},
   "source": [
    "# Import Required Libraries"
   ]
  },
  {
   "cell_type": "code",
   "execution_count": null,
   "id": "ff86ba75",
   "metadata": {},
   "outputs": [],
   "source": [
    "import os\n",
    "import pandas as pd\n",
    "import numpy as np\n",
    "import joblib\n",
    "import matplotlib.pyplot as plt\n",
    "import seaborn as sns\n",
    "from sklearn.model_selection import train_test_split\n",
    "from sklearn.metrics import classification_report, accuracy_score\n",
    "from sklearn.impute import SimpleImputer\n",
    "import xgboost as xgb\n"
   ]
  },
  {
   "cell_type": "markdown",
   "id": "2a2c889c",
   "metadata": {},
   "source": [
    "# Load the Datasets"
   ]
  },
  {
   "cell_type": "code",
   "execution_count": null,
   "id": "ab2e6fd3",
   "metadata": {},
   "outputs": [],
   "source": [
    "# Load datasets\n",
    "calls = pd.read_csv('../data/calls.csv')\n",
    "customers = pd.read_csv('../data/customers.csv')\n",
    "reason = pd.read_csv('../data/reason.csv')\n",
    "sentiment = pd.read_csv('../data/sentiment_statistics.csv')\n"
   ]
  },
  {
   "cell_type": "markdown",
   "id": "1e85b36b",
   "metadata": {},
   "source": [
    "# Data Preprocessing"
   ]
  },
  {
   "cell_type": "code",
   "execution_count": null,
   "id": "dfbd34bc",
   "metadata": {},
   "outputs": [],
   "source": [
    "# Convert dates to datetime\n",
    "calls['call_start_datetime'] = pd.to_datetime(calls['call_start_datetime'])\n",
    "calls['call_end_datetime'] = pd.to_datetime(calls['call_end_datetime'])\n",
    "\n",
    "# Calculate call duration\n",
    "calls['call_duration'] = (calls['call_end_datetime'] - calls['call_start_datetime']).dt.total_seconds()\n",
    "\n",
    "# Merge datasets\n",
    "merged_df = calls.merge(customers, on='customer_id', how='left')\n",
    "merged_df = merged_df.merge(reason, on='call_id', how='left')\n",
    "merged_df = merged_df.merge(sentiment, on='call_id', how='left')\n",
    "\n",
    "# Save the preprocessed data\n",
    "merged_df.to_csv('../data/processed_data.csv', index=False)\n"
   ]
  },
  {
   "cell_type": "markdown",
   "id": "79854910",
   "metadata": {},
   "source": [
    "# Load the Preprocessed Data"
   ]
  },
  {
   "cell_type": "code",
   "execution_count": null,
   "id": "23205310",
   "metadata": {},
   "outputs": [],
   "source": [
    "# Load the preprocessed data\n",
    "data = pd.read_csv('../data/processed_data.csv')\n",
    "\n",
    "print(data.info())\n",
    "print(data.describe())\n"
   ]
  },
  {
   "cell_type": "markdown",
   "id": "ab160eb8",
   "metadata": {},
   "source": [
    "# Convert Datetime Columns and Calculate Response Delay"
   ]
  },
  {
   "cell_type": "code",
   "execution_count": null,
   "id": "26027439",
   "metadata": {},
   "outputs": [],
   "source": [
    "# Convert datetime columns\n",
    "data['call_start_datetime'] = pd.to_datetime(data['call_start_datetime'], errors='coerce')\n",
    "data['agent_assigned_datetime'] = pd.to_datetime(data['agent_assigned_datetime'], errors='coerce')\n",
    "\n",
    "# Calculate response delay if it doesn't exist\n",
    "if 'response_delay' not in data.columns:\n",
    "    data['response_delay'] = (data['agent_assigned_datetime'] - data['call_start_datetime']).dt.total_seconds() / 60\n"
   ]
  },
  {
   "cell_type": "markdown",
   "id": "78b21f15",
   "metadata": {},
   "source": [
    "# Calculate AHT and AST"
   ]
  },
  {
   "cell_type": "code",
   "execution_count": null,
   "id": "96f67b1b",
   "metadata": {},
   "outputs": [],
   "source": [
    "# Calculate Average Handle Time (AHT) and Average Speed to Answer (AST)\n",
    "AHT = data['call_duration'].mean()\n",
    "AST = data['response_delay'].mean()\n",
    "\n",
    "# Output the AST and AHT values\n",
    "print(f\"Average Handle Time (AHT): {AHT} seconds\")\n",
    "print(f\"Average Speed to Answer (AST): {AST} minutes\")\n"
   ]
  },
  {
   "cell_type": "markdown",
   "id": "2f4f9035",
   "metadata": {},
   "source": [
    "# Exploratory Data Analysis (EDA)"
   ]
  },
  {
   "cell_type": "code",
   "execution_count": null,
   "id": "896f16cc",
   "metadata": {},
   "outputs": [],
   "source": [
    "# Plot call durations\n",
    "plt.figure(figsize=(10, 6))\n",
    "sns.histplot(data['call_duration'], kde=True)\n",
    "plt.title('Distribution of Call Durations')\n",
    "plt.xlabel('Call Duration (seconds)')\n",
    "plt.ylabel('Frequency')\n",
    "plt.show()\n",
    "\n",
    "# Plot heatmap for correlation\n",
    "plt.figure(figsize=(10, 8))\n",
    "sns.heatmap(data.corr(), annot=True, fmt='.2f', cmap='coolwarm')\n",
    "plt.title('Correlation Heatmap')\n",
    "plt.show()\n",
    "\n",
    "# Plot distribution of target variable\n",
    "plt.figure(figsize=(10, 6))\n",
    "sns.countplot(y='primary_call_reason', data=data, order=data['primary_call_reason'].value_counts().index)\n",
    "plt.title('Distribution of Primary Call Reason')\n",
    "plt.xlabel('Count')\n",
    "plt.ylabel('Primary Call Reason')\n",
    "plt.show()\n"
   ]
  },
  {
   "cell_type": "markdown",
   "id": "4545d214",
   "metadata": {},
   "source": [
    "# Create New Features"
   ]
  },
  {
   "cell_type": "code",
   "execution_count": null,
   "id": "2ef20c77",
   "metadata": {},
   "outputs": [],
   "source": [
    "# Create new features\n",
    "data['day_of_week'] = data['call_start_datetime'].dt.day_name()\n",
    "data['call_duration_category'] = pd.cut(data['call_duration'], bins=[0, 60, 300, 600, 1800],\n",
    "                                         labels=['Very Short', 'Short', 'Medium', 'Long'])\n",
    "\n",
    "# Save the final dataset for modeling\n",
    "data.to_csv('../data/feature_engineered_data.csv', index=False)\n",
    "print(\"Feature engineering complete and dataset saved.\")\n"
   ]
  },
  {
   "cell_type": "markdown",
   "id": "1135b2fa",
   "metadata": {},
   "source": [
    "# Load the Feature-Engineered Dataset"
   ]
  },
  {
   "cell_type": "code",
   "execution_count": null,
   "id": "aa4cfb7b",
   "metadata": {},
   "outputs": [],
   "source": [
    "# Load the feature-engineered dataset\n",
    "data = pd.read_csv('../data/feature_engineered_data.csv')\n",
    "\n",
    "# Features and target\n",
    "X = data[['call_duration', 'response_delay', 'average_sentiment']]  # Add more features if needed\n",
    "y = data['primary_call_reason'].fillna('Unknown').str.strip()  # Clean target variable\n"
   ]
  },
  {
   "cell_type": "markdown",
   "id": "31fb61c0",
   "metadata": {},
   "source": [
    "# Handle Missing Values\n"
   ]
  },
  {
   "cell_type": "code",
   "execution_count": null,
   "id": "acfbf8a0",
   "metadata": {},
   "outputs": [],
   "source": [
    "# Handle missing values in X by imputing them with the median\n",
    "imputer = SimpleImputer(strategy='median')\n",
    "X_imputed = imputer.fit_transform(X)\n",
    "\n",
    "# Convert target variable to categorical codes\n",
    "y = pd.factorize(y)[0]\n"
   ]
  },
  {
   "cell_type": "markdown",
   "id": "d5f368a6",
   "metadata": {},
   "source": [
    "# Train-Test Split"
   ]
  },
  {
   "cell_type": "code",
   "execution_count": null,
   "id": "6c2ffff9",
   "metadata": {},
   "outputs": [],
   "source": [
    "# Train-Test Split\n",
    "X_train, X_test, y_train, y_test = train_test_split(X_imputed, y, test_size=0.2, random_state=42)\n"
   ]
  },
  {
   "cell_type": "markdown",
   "id": "126851f6",
   "metadata": {},
   "source": [
    "# Model Training with XGBoost"
   ]
  },
  {
   "cell_type": "code",
   "execution_count": null,
   "id": "7c37f883",
   "metadata": {},
   "outputs": [],
   "source": [
    "# Model Training\n",
    "model = xgb.XGBClassifier(eval_metric='mlogloss')\n",
    "model.fit(X_train, y_train)\n",
    "\n",
    "# Predict and evaluate\n",
    "y_pred = model.predict(X_test)\n",
    "\n",
    "# Calculate accuracy\n",
    "accuracy = accuracy_score(y_test, y_pred)\n",
    "print(f\"Test Accuracy: {accuracy:.2f}\")\n",
    "\n",
    "# Print classification report\n",
    "print(classification_report(y_test, y_pred))\n"
   ]
  },
  {
   "cell_type": "markdown",
   "id": "90d6a7c4",
   "metadata": {},
   "source": [
    "# Save the XGBoost Model\n"
   ]
  },
  {
   "cell_type": "code",
   "execution_count": null,
   "id": "cf7651ea",
   "metadata": {},
   "outputs": [],
   "source": [
    "# Save the model\n",
    "model_dir = '../models'\n",
    "if not os.path.exists(model_dir):\n",
    "    os.makedirs(model_dir)\n",
    "joblib.dump(model, os.path.join(model_dir, 'xgboost_model.pkl'))\n"
   ]
  },
  {
   "cell_type": "markdown",
   "id": "190bc0c9",
   "metadata": {},
   "source": [
    "# Load the Test Data and Make Predictions"
   ]
  },
  {
   "cell_type": "code",
   "execution_count": null,
   "id": "736a111b",
   "metadata": {},
   "outputs": [],
   "source": [
    "# Load the test data\n",
    "test_data = pd.read_csv('../data/test.csv')\n",
    "\n",
    "# Load the trained model\n",
    "model = joblib.load(os.path.join(model_dir, 'xgboost_model.pkl'))\n",
    "\n",
    "# Define the expected features based on your training data\n",
    "expected_features = ['call_duration', 'response_delay', 'average_sentiment']\n",
    "\n",
    "# Create placeholder values for missing features if the test data doesn't have them\n",
    "for feature in expected_features:\n",
    "    if feature not in test_data.columns:\n",
    "        test_data[feature] = np.random.rand(len(test_data))  # Generate random values or set to some default\n",
    "\n",
    "# Prepare the test data with all the expected features\n",
    "X_test = test_data[expected_features]\n",
    "\n",
    "# Convert to NumPy array for prediction\n",
    "X_test_array = X_test.to_numpy()\n",
    "\n",
    "# Make predictions\n",
    "test_predictions = model.predict(X_test_array)\n",
    "\n",
    "# Create submission file\n",
    "submission = pd.DataFrame({'call_id': test_data['call_id'], 'primary_call_reason': test_predictions})\n",
    "submission.to_csv('../predictions/test_ankitasingh.csv', index=False)\n",
    "\n",
    "print(\"Predictions made and submission file created successfully.\")\n"
   ]
  },
  {
   "cell_type": "markdown",
   "id": "3600b30f",
   "metadata": {},
   "source": [
    "# Load and Display Predictions"
   ]
  },
  {
   "cell_type": "code",
   "execution_count": null,
   "id": "4b1c3e2d",
   "metadata": {},
   "outputs": [],
   "source": [
    "# Load the submission file\n",
    "submission = pd.read_csv('../predictions/test_ankitasingh.csv')\n",
    "print(submission.head())  # Display the first few predictions\n"
   ]
  },
  {
   "cell_type": "code",
   "execution_count": null,
   "id": "f44cb0a7",
   "metadata": {},
   "outputs": [],
   "source": []
  },
  {
   "cell_type": "code",
   "execution_count": null,
   "id": "c69b03b4",
   "metadata": {},
   "outputs": [],
   "source": []
  },
  {
   "cell_type": "code",
   "execution_count": null,
   "id": "d4bda8e5",
   "metadata": {},
   "outputs": [],
   "source": []
  }
 ],
 "metadata": {
  "kernelspec": {
   "display_name": "Python 3 (ipykernel)",
   "language": "python",
   "name": "python3"
  },
  "language_info": {
   "codemirror_mode": {
    "name": "ipython",
    "version": 3
   },
   "file_extension": ".py",
   "mimetype": "text/x-python",
   "name": "python",
   "nbconvert_exporter": "python",
   "pygments_lexer": "ipython3",
   "version": "3.10.9"
  }
 },
 "nbformat": 4,
 "nbformat_minor": 5
}
